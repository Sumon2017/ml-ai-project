{
  "cells": [
    {
      "cell_type": "markdown",
      "source": [
        "# Importing Library"
      ],
      "metadata": {
        "id": "VYn-NXf3NCPY"
      }
    },
    {
      "cell_type": "code",
      "execution_count": null,
      "metadata": {
        "id": "H7N3DRHw46co"
      },
      "outputs": [],
      "source": [
        "# importing library\n",
        "\n",
        "import numpy as np\n",
        "import matplotlib.pyplot as plt\n",
        "from tabulate import tabulate\n",
        "from abc import abstractmethod\n",
        "import keras.layers as Kl\n",
        "import keras.models as Km\n",
        "from pathlib import Path\n",
        "import os\n",
        "import csv\n",
        "import random"
      ]
    },
    {
      "cell_type": "markdown",
      "source": [
        "# Main Board\n",
        "\n",
        "This class has game initialization , main gameloop and also main gameloop with learning method."
      ],
      "metadata": {
        "id": "P80X64oLNicm"
      }
    },
    {
      "cell_type": "code",
      "execution_count": null,
      "metadata": {
        "id": "3ctBL_XXCDZA"
      },
      "outputs": [],
      "source": [
        "\n",
        "class TicTacToe():\n",
        "\n",
        "    def __init__(self, player1, player2, exp1=1, exp2=1):\n",
        "        self.state = '123456789'\n",
        "\n",
        "        player1 = globals()[player1]\n",
        "        self.player1 = player1(tag='X', exploration_factor=exp1)\n",
        "        player2 = globals()[player2]\n",
        "        self.player2 = player2(tag='O', exploration_factor=exp2)\n",
        "\n",
        "        self.winner = None\n",
        "        self.turn = 'X'\n",
        "        self.player_turn = self.player1\n",
        "\n",
        "        self.Xcount = 0\n",
        "        self.Ocount = 0\n",
        "        self.Tcount = 0\n",
        "        self.all_count = 0\n",
        "\n",
        "    def play_game(self):\n",
        "\n",
        "        if isinstance(self.player1, QAgent):\n",
        "            self.player1.exp_factor = 1\n",
        "        if isinstance(self.player2, QAgent):\n",
        "            self.player2.exp_factor = 1\n",
        "\n",
        "        while self.winner is None:\n",
        "\n",
        "            if type(self.player_turn) == Player:\n",
        "                print(self.turn)\n",
        "                self.print_game()\n",
        "\n",
        "            self.state = self.play_move()\n",
        "            self.game_winner()\n",
        "\n",
        "            if self.winner is not None:\n",
        "                break\n",
        "\n",
        "        self.print_game()\n",
        "\n",
        "    def play_to_learn(self, episodes):\n",
        "\n",
        "        for i in range(episodes+1):\n",
        "            # episodes\n",
        "\n",
        "            while self.winner is None:\n",
        "                self.state = self.play_move(learn=True)\n",
        "                self.game_winner()\n",
        "\n",
        "                if self.winner is not None:\n",
        "                    break\n",
        "\n",
        "                self.state = self.play_move(learn=True)\n",
        "                self.game_winner()\n",
        "\n",
        "            # learning last state\n",
        "            self.state = self.play_move(learn=True)\n",
        "            self.state = self.play_move(learn=True)\n",
        "            # learning winning state\n",
        "            self.state = self.play_move(learn=True)\n",
        "            self.state = self.play_move(learn=True)\n",
        "\n",
        "            if (i+1)% 100 == 0:\n",
        "                self.print_bar()\n",
        "                print('#################')\n",
        "                self.player1.print_value = True\n",
        "            else:\n",
        "                self.player1.print_value = False\n",
        "\n",
        "            \n",
        "\n",
        "            self.all_count = i\n",
        "            self.init_game()\n",
        "\n",
        "        self.print_summary()\n",
        "        self.player1.save_values()\n",
        "        self.player2.save_values()\n",
        "\n",
        "    def play_move(self, learn=False):\n",
        "\n",
        "        if self.turn == 'X':\n",
        "            if learn is True:\n",
        "                new_state = self.player1.make_move_and_learn(self.state, self.winner)\n",
        "            else:\n",
        "                new_state = self.player1.make_move(self.state, self.winner)\n",
        "            self.turn = 'O'\n",
        "            self.player_turn = self.player2\n",
        "        else:\n",
        "            if learn is True:\n",
        "                new_state = self.player2.make_move_and_learn(self.state, self.winner)\n",
        "            else:\n",
        "                new_state = self.player2.make_move(self.state, self.winner)\n",
        "            self.turn = 'X'\n",
        "            self.player_turn = self.player1\n",
        "        return new_state\n",
        "\n",
        "    def print_game(self):\n",
        "\n",
        "        s = list(self.state)\n",
        "\n",
        "        print('    {} | {} | {}'.format(s[0], s[1], s[2]))\n",
        "        print('  --------------')\n",
        "        print('    {} | {} | {}'.format(s[3], s[4], s[5]))\n",
        "        print('  --------------')\n",
        "        print('    {} | {} | {}'.format(s[6], s[7], s[8]))\n",
        "        print('  --------------')\n",
        "        print('  --------------')\n",
        "\n",
        "    def game_winner(self):\n",
        "\n",
        "        winner = [[0, 1, 2], [3, 4, 5], [6, 7, 8], [0, 3, 6], [1, 4, 7], [2, 5, 8], [0, 4, 8], [2, 4, 6]]\n",
        "        for line in winner:\n",
        "            s = self.state[line[0]] + self.state[line[1]] + self.state[line[2]]\n",
        "            if s == 'XXX':\n",
        "                self.winner = 'X'\n",
        "                break\n",
        "            elif s == 'OOO':\n",
        "                self.winner = 'O'\n",
        "                break\n",
        "            elif not any(s.isnumeric() for s in list(self.state)):\n",
        "                self.winner = 'No winner'\n",
        "        self.check_winner()\n",
        "        return self.winner\n",
        "\n",
        "    def check_winner(self):\n",
        "\n",
        "        if self.winner == 'X':\n",
        "            self.Xcount += 1\n",
        "            \n",
        "\n",
        "        elif self.winner == 'O':\n",
        "            self.Ocount += 1\n",
        "            \n",
        "\n",
        "        elif self.winner == 'No winner':\n",
        "            self.Tcount += 1\n",
        "            \n",
        "\n",
        "    def init_game(self):\n",
        "        self.state = '123456789'\n",
        "        self.winner = None\n",
        "        self.turn = 'X'\n",
        "        self.player_turn = self.player1\n",
        "\n",
        "    def print_bar(self):\n",
        "\n",
        "        plt.close()\n",
        "        fig = plt.figure()\n",
        "        ax1 = fig.add_subplot(2, 1, 1)\n",
        "        ax2 = fig.add_subplot(2, 1, 2)\n",
        "\n",
        "        x = ['X', 'Tie', 'O', 'Sum']\n",
        "        a = self.Xcount\n",
        "        b = self.Tcount\n",
        "        c = self.Ocount\n",
        "        d = self.all_count\n",
        "\n",
        "        aprec = 100*a / (a + b + c + 1)\n",
        "        bprec = 100*b / (a + b + c + 1)\n",
        "        cprec = 100*c / (a + b + c + 1)\n",
        "\n",
        "        ax1.clear()\n",
        "        ax2.clear()\n",
        "        bar1 = ax1.bar(x, [a, b, c, d])\n",
        "        bar1[0].set_color('r')\n",
        "        bar1[1].set_color('b')\n",
        "        ax1.set_ylim((0, d + 100))\n",
        "        plt.draw()\n",
        "\n",
        "        bar2 = ax2.bar(x[0:3], [aprec, bprec, cprec])\n",
        "        bar2[0].set_color('r')\n",
        "        bar2[1].set_color('b')\n",
        "        ax2.set_ylim((0, 100))\n",
        "\n",
        "        for rect in bar2:\n",
        "            height = rect.get_height()\n",
        "            ax2.text(rect.get_x() + rect.get_width() / 2., 1.05 * height,\n",
        "                    '%d' % int(height),\n",
        "                    ha='center', va='bottom')\n",
        "\n",
        "        plt.draw()\n",
        "\n",
        "        plt.pause(0.05)\n",
        "\n",
        "    def print_summary(self):\n",
        "        a = ['X',   self.Xcount, 100 * self.Xcount / (self.Xcount + self.Ocount + self.Tcount)]\n",
        "        b = ['O',   self.Ocount, 100 * self.Ocount / (self.Xcount + self.Ocount + self.Tcount)]\n",
        "        c = ['Tie', self.Tcount, 100 * self.Tcount / (self.Xcount + self.Ocount + self.Tcount)]\n",
        "        tab = tabulate([a, b, c], headers=['Player', 'num of wins', 'prec'])\n",
        "        print(tab)"
      ]
    },
    {
      "cell_type": "markdown",
      "source": [
        "# Player class for playing interactively."
      ],
      "metadata": {
        "id": "2N-Km8LsQaZ0"
      }
    },
    {
      "cell_type": "code",
      "execution_count": null,
      "metadata": {
        "id": "1EWthTRMCvWI"
      },
      "outputs": [],
      "source": [
        "class Player():\n",
        "\n",
        "    def __init__(self, tag, exploration_factor=1):\n",
        "        self.tag = tag\n",
        "        self.print_value = False\n",
        "        self.exp_factor = exploration_factor\n",
        "\n",
        "    def make_move(self, state, winner):\n",
        "        idx = int(input('Choose move number: '))\n",
        "        s = state[:idx-1] + self.tag + state[idx:]\n",
        "        return s"
      ]
    },
    {
      "cell_type": "markdown",
      "source": [
        "# Agent"
      ],
      "metadata": {
        "id": "aWU29rJOQrlx"
      }
    },
    {
      "cell_type": "code",
      "execution_count": null,
      "metadata": {
        "id": "NpaLcA2dCxsR"
      },
      "outputs": [],
      "source": [
        "class Agent(Player):\n",
        "\n",
        "    def __init__(self, tag, exploration_factor=1):\n",
        "        super().__init__(tag, exploration_factor)\n",
        "        self.epsilon = 0.1\n",
        "        self.alpha = 0.5\n",
        "        self.prev_state = '123456789'\n",
        "        self.state = None\n",
        "        self.print_value = False\n",
        "\n",
        "        if self.tag == 'X':\n",
        "            self.op_tag = 'O'\n",
        "        else:\n",
        "            self.op_tag = 'X'\n",
        "\n",
        "    @abstractmethod\n",
        "    def calc_value(self, state):\n",
        "        pass\n",
        "\n",
        "    @abstractmethod\n",
        "    def learn_state(self, state, winner):\n",
        "        pass\n",
        "\n",
        "    def make_move(self, state, winner):\n",
        "\n",
        "        self.state = state\n",
        "\n",
        "        if winner is not None:\n",
        "            new_state = state\n",
        "            return new_state\n",
        "\n",
        "        p = random.uniform(0, 1)\n",
        "        if p < self.exp_factor:\n",
        "            new_state = self.make_optimal_move(state)\n",
        "        else:\n",
        "            moves = [s for s, v in enumerate(state) if v.isnumeric()]\n",
        "            idx = random.choice(moves)\n",
        "            new_state = state[:idx] + self.tag + state[idx + 1:]\n",
        "\n",
        "        return new_state\n",
        "\n",
        "    def make_move_and_learn(self, state, winner):\n",
        "\n",
        "        self.learn_state(state, winner)\n",
        "\n",
        "        return self.make_move(state, winner)\n",
        "\n",
        "    def make_optimal_move(self, state):\n",
        "        moves = [s for s, v in enumerate(state) if v.isnumeric()]\n",
        "\n",
        "        if len(moves) == 1:\n",
        "            temp_state = state[:moves[0]] + self.tag + state[moves[0] + 1:]\n",
        "            new_state = temp_state\n",
        "            return new_state\n",
        "\n",
        "        temp_state_list = []\n",
        "        v = -float('Inf')\n",
        "\n",
        "        for idx in moves:\n",
        "\n",
        "            v_temp = []\n",
        "            temp_state = state[:idx] + self.tag + state[idx + 1:]\n",
        "\n",
        "            moves_op = [s for s, v in enumerate(temp_state) if v.isnumeric()]\n",
        "            for idy in moves_op:\n",
        "                temp_state_op = temp_state[:idy] + self.op_tag + temp_state[idy + 1:]\n",
        "                v_temp.append(self.calc_value(temp_state_op))\n",
        "\n",
        "            # Remove Nones\n",
        "            v_temp = list(filter(None.__ne__, v_temp))\n",
        "\n",
        "            if len(v_temp) != 0:\n",
        "                v_temp = np.min(v_temp)\n",
        "            else:\n",
        "                \n",
        "                v_temp = 1\n",
        "\n",
        "            if v_temp > v:\n",
        "                temp_state_list = [temp_state]\n",
        "                v = v_temp\n",
        "            elif v_temp == v:\n",
        "                temp_state_list.append(temp_state)\n",
        "\n",
        "        try:\n",
        "            new_state = random.choice(temp_state_list)\n",
        "        except ValueError:\n",
        "            print('temp state:', temp_state_list)\n",
        "            raise Exception('temp state empty')\n",
        "\n",
        "        return new_state\n",
        "\n",
        "    def reward(self, winner):\n",
        "        if winner is self.tag:\n",
        "            R = 1\n",
        "        elif winner is None:\n",
        "            R = 0\n",
        "        elif winner == 'No winner':\n",
        "            R = 0.5\n",
        "        else:\n",
        "            R = -1\n",
        "        return R"
      ]
    },
    {
      "cell_type": "markdown",
      "source": [
        "# QLearning Agent"
      ],
      "metadata": {
        "id": "P6NbReQ_Qxd6"
      }
    },
    {
      "cell_type": "code",
      "execution_count": null,
      "metadata": {
        "id": "azh1tp_PC2Rh"
      },
      "outputs": [],
      "source": [
        "class QAgent(Agent):\n",
        "\n",
        "    def __init__(self, tag, exploration_factor=1):\n",
        "        super().__init__(tag, exploration_factor)\n",
        "        self.tag = tag\n",
        "        self.values = dict()\n",
        "        self.load_values()\n",
        "\n",
        "    def learn_state(self, state, winner):\n",
        "\n",
        "        if self.tag in state:\n",
        "            if self.prev_state in self.values.keys():\n",
        "                v_s = self.values[self.prev_state]\n",
        "            else:\n",
        "                v_s = int(0)\n",
        "\n",
        "            R = self.reward(winner)\n",
        "\n",
        "            if state in self.values.keys() and winner is None:\n",
        "                v_s_tag = self.values[state]\n",
        "            else:\n",
        "                v_s_tag = int(0)\n",
        "\n",
        "            self.values[self.prev_state] = v_s + self.alpha*(R + v_s_tag - v_s)\n",
        "\n",
        "        self.prev_state = state\n",
        "\n",
        "    def calc_value(self, state):\n",
        "        if state in self.values.keys():\n",
        "            return self.values[state]\n",
        "\n",
        "    def load_values(self):\n",
        "        s = 'values' + self.tag + '.csv'\n",
        "        try:\n",
        "            value_csv = csv.reader(open(s, 'r'))\n",
        "            for row in value_csv:\n",
        "                k, v = row\n",
        "                self.values[k] = float(v)\n",
        "        except:\n",
        "            pass\n",
        "        \n",
        "\n",
        "    def save_values(self):\n",
        "        s = 'values' + self.tag + '.csv'\n",
        "        try:\n",
        "            os.remove(s)\n",
        "        except:\n",
        "            pass\n",
        "        a = csv.writer(open(s, 'a'))\n",
        "\n",
        "        for v, k in self.values.items():\n",
        "            a.writerow([v, k])\n",
        "\n"
      ]
    },
    {
      "cell_type": "markdown",
      "source": [
        "# DeepQLearning Agent"
      ],
      "metadata": {
        "id": "Y6DJUB0-Q2Eq"
      }
    },
    {
      "cell_type": "code",
      "execution_count": null,
      "metadata": {
        "id": "KPHpxJBLC9Rt"
      },
      "outputs": [],
      "source": [
        "class DeepAgent(Agent):\n",
        "\n",
        "    def __init__(self, tag, exploration_factor=1):\n",
        "        super().__init__(tag, exploration_factor)\n",
        "        self.tag = tag\n",
        "        self.value_model = self.load_model()\n",
        "\n",
        "    @staticmethod\n",
        "    def state2array(state):\n",
        "\n",
        "        num_state = []\n",
        "        for s in state:\n",
        "            if s == 'X':\n",
        "                num_state.append(1)\n",
        "            elif s == 'O':\n",
        "                num_state.append(-1)\n",
        "            else:\n",
        "                num_state.append(0)\n",
        "        num_state = np.array([num_state])\n",
        "        return num_state\n",
        "\n",
        "    def learn_state(self, state, winner):\n",
        "\n",
        "        target = self.calc_target(state, winner)\n",
        "\n",
        "        self.train_model(target, 10)\n",
        "\n",
        "        self.prev_state = state\n",
        "\n",
        "    def load_model(self):\n",
        "        s = 'model_values' + self.tag + '.h5'\n",
        "        model_file = Path(s)\n",
        "        if model_file.is_file():\n",
        "            model = Km.load_model(s)\n",
        "            print('load model: ' + s)\n",
        "        else:\n",
        "            print('new model')\n",
        "            model = Km.Sequential()\n",
        "            model.add(Kl.Dense(18, activation='relu', input_dim=9))\n",
        "            model.add(Kl.Dense(18, activation='relu'))\n",
        "            model.add(Kl.Dense(1, activation='linear'))\n",
        "            model.compile(optimizer='adam', loss='mean_absolute_error', metrics=['accuracy'])\n",
        "\n",
        "        model.summary()\n",
        "        return model\n",
        "\n",
        "    def calc_value(self, state):\n",
        "        return self.value_model.predict(self.state2array(state),verbose=0)\n",
        "\n",
        "    def calc_target(self, state, winner):\n",
        "\n",
        "        if self.tag in state:\n",
        "\n",
        "            v_s = self.calc_value(self.prev_state)\n",
        "\n",
        "            R = self.reward(winner)\n",
        "\n",
        "            if winner is None:\n",
        "                v_s_tag = self.calc_value(state)\n",
        "            else:\n",
        "                v_s_tag = 0\n",
        "\n",
        "            target = np.array(v_s + self.alpha * (R + v_s_tag - v_s))\n",
        "\n",
        "            return target\n",
        "\n",
        "    def train_model(self, target, epochs):\n",
        "\n",
        "        X_train = self.state2array(self.prev_state)\n",
        "\n",
        "        if target is not None:\n",
        "            self.value_model.fit(X_train, target, epochs=epochs, verbose=0)\n",
        "\n",
        "    def save_values(self):\n",
        "        s = 'model_values' + self.tag + '.h5'\n",
        "        try:\n",
        "            os.remove(s)\n",
        "        except:\n",
        "            pass\n",
        "        self.value_model.save(s)\n"
      ]
    },
    {
      "cell_type": "markdown",
      "source": [
        "# Learning phase of 1st agent"
      ],
      "metadata": {
        "id": "56xxi5OmQ9na"
      }
    },
    {
      "cell_type": "code",
      "execution_count": null,
      "metadata": {
        "colab": {
          "base_uri": "https://localhost:8080/",
          "height": 1000
        },
        "id": "YeSGE7UzFGZb",
        "outputId": "b212c48c-961f-44fa-a7eb-b14292bbc344"
      },
      "outputs": [
        {
          "output_type": "stream",
          "name": "stdout",
          "text": [
            "QAgent X-1 and QAgent O-0\n"
          ]
        },
        {
          "output_type": "display_data",
          "data": {
            "text/plain": [
              "<Figure size 432x288 with 2 Axes>"
            ],
            "image/png": "[encoded data removed]"
          },
          "metadata": {
            "needs_background": "light"
          }
        },
        {
          "output_type": "stream",
          "name": "stdout",
          "text": [
            "#################\n"
          ]
        },
        {
          "output_type": "display_data",
          "data": {
            "text/plain": [
              "<Figure size 432x288 with 2 Axes>"
            ],
            "image/png": "[encoded data removed]"
          },
          "metadata": {
            "needs_background": "light"
          }
        },
        {
          "output_type": "stream",
          "name": "stdout",
          "text": [
            "#################\n"
          ]
        },
        {
          "output_type": "display_data",
          "data": {
            "text/plain": [
              "<Figure size 432x288 with 2 Axes>"
            ],
            "image/png": "[encoded data removed]"
          },
          "metadata": {
            "needs_background": "light"
          }
        },
        {
          "output_type": "stream",
          "name": "stdout",
          "text": [
            "#################\n"
          ]
        },
        {
          "output_type": "display_data",
          "data": {
            "text/plain": [
              "<Figure size 432x288 with 2 Axes>"
            ],
            "image/png": "[encoded data removed]"
          },
          "metadata": {
            "needs_background": "light"
          }
        },
        {
          "output_type": "stream",
          "name": "stdout",
          "text": [
            "#################\n"
          ]
        },
        {
          "output_type": "display_data",
          "data": {
            "text/plain": [
              "<Figure size 432x288 with 2 Axes>"
            ],
            "image/png": "[encoded data removed]"
          },
          "metadata": {
            "needs_background": "light"
          }
        },
        {
          "output_type": "stream",
          "name": "stdout",
          "text": [
            "#################\n"
          ]
        },
        {
          "output_type": "display_data",
          "data": {
            "text/plain": [
              "<Figure size 432x288 with 2 Axes>"
            ],
            "image/png": "[encoded data removed]"
          },
          "metadata": {
            "needs_background": "light"
          }
        },
        {
          "output_type": "stream",
          "name": "stdout",
          "text": [
            "#################\n"
          ]
        },
        {
          "output_type": "display_data",
          "data": {
            "text/plain": [
              "<Figure size 432x288 with 2 Axes>"
            ],
            "image/png": "[encoded data removed]"
          },
          "metadata": {
            "needs_background": "light"
          }
        },
        {
          "output_type": "stream",
          "name": "stdout",
          "text": [
            "#################\n"
          ]
        },
        {
          "output_type": "display_data",
          "data": {
            "text/plain": [
              "<Figure size 432x288 with 2 Axes>"
            ],
            "image/png": "[encoded data removed]"
          },
          "metadata": {
            "needs_background": "light"
          }
        },
        {
          "output_type": "stream",
          "name": "stdout",
          "text": [
            "#################\n"
          ]
        },
        {
          "output_type": "display_data",
          "data": {
            "text/plain": [
              "<Figure size 432x288 with 2 Axes>"
            ],
            "image/png": "[encoded data removed]"
          },
          "metadata": {
            "needs_background": "light"
          }
        },
        {
          "output_type": "stream",
          "name": "stdout",
          "text": [
            "#################\n"
          ]
        },
        {
          "output_type": "display_data",
          "data": {
            "text/plain": [
              "<Figure size 432x288 with 2 Axes>"
            ],
            "image/png": "[encoded data removed]"
          },
          "metadata": {
            "needs_background": "light"
          }
        },
        {
          "output_type": "stream",
          "name": "stdout",
          "text": [
            "#################\n",
            "Player      num of wins     prec\n",
            "--------  -------------  -------\n",
            "X                   972  97.1029\n",
            "O                     5   0.4995\n",
            "Tie                  24   2.3976\n"
          ]
        }
      ],
      "source": [
        "print('QAgent X-1 and QAgent O-0')\n",
        "game = TicTacToe('QAgent', 'QAgent', 1, 0)\n",
        "game.play_to_learn(3000)"
      ]
    },
    {
      "cell_type": "markdown",
      "source": [
        "# Learning phase of 2nd agent"
      ],
      "metadata": {
        "id": "NnxUolCgRHGU"
      }
    },
    {
      "cell_type": "code",
      "execution_count": null,
      "metadata": {
        "colab": {
          "background_save": true,
          "base_uri": "https://localhost:8080/",
          "height": 1000
        },
        "id": "QSZJJ1tbHaAh",
        "outputId": "3c77a1c0-6374-4318-dc54-e8cba35af1da"
      },
      "outputs": [
        {
          "name": "stdout",
          "output_type": "stream",
          "text": [
            "DeepAgent X-1 and DeepAgent O-1\n",
            "new model\n",
            "Model: \"sequential_2\"\n",
            "_________________________________________________________________\n",
            " Layer (type)                Output Shape              Param #   \n",
            "=================================================================\n",
            " dense_6 (Dense)             (None, 18)                180       \n",
            "                                                                 \n",
            " dense_7 (Dense)             (None, 18)                342       \n",
            "                                                                 \n",
            " dense_8 (Dense)             (None, 1)                 19        \n",
            "                                                                 \n",
            "=================================================================\n",
            "Total params: 541\n",
            "Trainable params: 541\n",
            "Non-trainable params: 0\n",
            "_________________________________________________________________\n",
            "new model\n",
            "Model: \"sequential_3\"\n",
            "_________________________________________________________________\n",
            " Layer (type)                Output Shape              Param #   \n",
            "=================================================================\n",
            " dense_9 (Dense)             (None, 18)                180       \n",
            "                                                                 \n",
            " dense_10 (Dense)            (None, 18)                342       \n",
            "                                                                 \n",
            " dense_11 (Dense)            (None, 1)                 19        \n",
            "                                                                 \n",
            "=================================================================\n",
            "Total params: 541\n",
            "Trainable params: 541\n",
            "Non-trainable params: 0\n",
            "_________________________________________________________________\n"
          ]
        },
        {
          "data": {
            "image/png": "[encoded data removed]",
            "text/plain": [
              "<Figure size 432x288 with 2 Axes>"
            ]
          },
          "metadata": {},
          "output_type": "display_data"
        },
        {
          "name": "stdout",
          "output_type": "stream",
          "text": [
            "#################\n"
          ]
        },
        {
          "data": {
            "image/png": "[encoded data removed]",
            "text/plain": [
              "<Figure size 432x288 with 2 Axes>"
            ]
          },
          "metadata": {},
          "output_type": "display_data"
        },
        {
          "name": "stdout",
          "output_type": "stream",
          "text": [
            "#################\n"
          ]
        },
        {
          "data": {
            "image/png": "[encoded data removed]",
            "text/plain": [
              "<Figure size 432x288 with 2 Axes>"
            ]
          },
          "metadata": {},
          "output_type": "display_data"
        },
        {
          "name": "stdout",
          "output_type": "stream",
          "text": [
            "#################\n"
          ]
        },
        {
          "data": {
            "image/png": "[encoded data removed]",
            "text/plain": [
              "<Figure size 432x288 with 2 Axes>"
            ]
          },
          "metadata": {},
          "output_type": "display_data"
        },
        {
          "name": "stdout",
          "output_type": "stream",
          "text": [
            "#################\n"
          ]
        },
        {
          "data": {
            "image/png": "[encoded data removed]",
            "text/plain": [
              "<Figure size 432x288 with 2 Axes>"
            ]
          },
          "metadata": {},
          "output_type": "display_data"
        },
        {
          "name": "stdout",
          "output_type": "stream",
          "text": [
            "#################\n",
            "Player      num of wins      prec\n",
            "--------  -------------  --------\n",
            "X                   405  80.8383\n",
            "O                    48   9.58084\n",
            "Tie                  48   9.58084\n"
          ]
        }
      ],
      "source": [
        "print('DeepAgent X-1 and DeepAgent O-1')\n",
        "game = TicTacToe('DeepAgent', 'DeepAgent', 1, 0)\n",
        "game.play_to_learn(500)"
      ]
    },
    {
      "cell_type": "code",
      "source": [
        "\n",
        "game = TicTacToe('Player', 'DeepAgent', 1, 0.8)\n",
        "game.play_game()"
      ],
      "metadata": {
        "id": "tJ-Y5Q6RRzG6"
      },
      "execution_count": null,
      "outputs": []
    }
  ],
  "metadata": {
    "accelerator": "GPU",
    "colab": {
      "collapsed_sections": [],
      "provenance": []
    },
    "gpuClass": "standard",
    "kernelspec": {
      "display_name": "Python 3",
      "name": "python3"
    },
    "language_info": {
      "name": "python"
    }
  },
  "nbformat": 4,
  "nbformat_minor": 0
}